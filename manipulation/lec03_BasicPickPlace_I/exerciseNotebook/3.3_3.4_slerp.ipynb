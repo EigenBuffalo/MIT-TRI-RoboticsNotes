{
 "cells": [
  {
   "cell_type": "code",
   "execution_count": 3,
   "metadata": {},
   "outputs": [
    {
     "name": "stdout",
     "output_type": "stream",
     "text": [
      "[1 1] [6.123234e-17 1.000000e+00]\n"
     ]
    }
   ],
   "source": [
    "import numpy as np\n",
    "\n",
    "vector1 = np.array([1,1])\n",
    "rotation = np.array([np.cos(np.pi*(0.5)), np.sin(np.pi*(0.5))])\n",
    "vector2 = rotation * vector1\n"
   ]
  },
  {
   "cell_type": "markdown",
   "metadata": {},
   "source": [
    "# 3.3a Complex number multiplication and rotation matrix\n",
    "\n",
    "Euler equation $e^{i\\theta}=cos(\\theta)+isin(\\theta)$\n",
    "\n",
    "For a 2D vector being left mulitiplied by a complex number, it is equivalent to rotate the vector by the angle of the complex number.\n",
    "\n",
    "$\\begin{bmatrix}\n",
    "cos(\\theta) & -sin(\\theta) \\\\ \n",
    "sin(\\theta) & cos(\\theta)\n",
    "\\end{bmatrix}\\cdot \n",
    "\\begin{bmatrix} \n",
    "a \\\\\n",
    "b\n",
    "\\end{bmatrix}=e^{i\\theta}\\cdot\n",
    "\\begin{bmatrix} \n",
    "a \\\\\n",
    "b\n",
    "\\end{bmatrix}$\n",
    "\n",
    "# 3.3b \n",
    "\n",
    "$z = 0.5a_{F} + 0.5a_{G} + i(0.5b_{F}+0.5b_{G})$\n",
    "\n",
    "No constraint on amplitude, it is not a rotation operation.\n",
    "\n",
    "# 3.3c \n",
    "\n",
    "$z(t) = e^{i\\theta_{F}(1-t)+i\\theta_{G}t}$ works cuz it is a rotation operation, satisfies the unit length constraint\n",
    "\n",
    "# 3.4\n"
   ]
  },
  {
   "cell_type": "code",
   "execution_count": 26,
   "metadata": {},
   "outputs": [
    {
     "name": "stdout",
     "output_type": "stream",
     "text": [
      "[[-0.80029006]\n",
      " [ 0.47334852]\n",
      " [-0.07154014]\n",
      " [ 0.36105265]]\n",
      "[[-0.81015336]\n",
      " [ 0.44432789]\n",
      " [-0.02966567]\n",
      " [ 0.38124035]]\n",
      "[[-0.81750478]\n",
      " [ 0.41392963]\n",
      " [ 0.01230077]\n",
      " [ 0.40024603]]\n",
      "[[-0.82232154]\n",
      " [ 0.38224797]\n",
      " [ 0.05422907]\n",
      " [ 0.41801074]]\n",
      "[[-0.82458869]\n",
      " [ 0.34938116]\n",
      " [ 0.09598924]\n",
      " [ 0.43447942]]\n",
      "[[-0.82429921]\n",
      " [ 0.3154311 ]\n",
      " [ 0.13745179]\n",
      " [ 0.44960099]]\n",
      "[[ 0.11336442]\n",
      " [-0.54279188]\n",
      " [ 0.05152888]]\n"
     ]
    }
   ],
   "source": [
    "from pydrake.all import (\n",
    "    PiecewiseQuaternionSlerp,\n",
    "    RandomGenerator,\n",
    "    UniformlyRandomQuaternion,\n",
    ")\n",
    "\n",
    "g = RandomGenerator()\n",
    "q1 = UniformlyRandomQuaternion(g)\n",
    "q2 = UniformlyRandomQuaternion(g)\n",
    "\n",
    "alpha = 0.1\n",
    "s1 = PiecewiseQuaternionSlerp([0, 1], [q1, q2])\n",
    "s2 = PiecewiseQuaternionSlerp([0, 1 / alpha], [q1, q2])\n",
    "print(s1.value(0.0))\n",
    "print(s2.EvalDerivative(0.5 / alpha) / alpha)"
   ]
  }
 ],
 "metadata": {
  "kernelspec": {
   "display_name": ".venv",
   "language": "python",
   "name": "python3"
  },
  "language_info": {
   "codemirror_mode": {
    "name": "ipython",
    "version": 3
   },
   "file_extension": ".py",
   "mimetype": "text/x-python",
   "name": "python",
   "nbconvert_exporter": "python",
   "pygments_lexer": "ipython3",
   "version": "3.8.10"
  }
 },
 "nbformat": 4,
 "nbformat_minor": 2
}
