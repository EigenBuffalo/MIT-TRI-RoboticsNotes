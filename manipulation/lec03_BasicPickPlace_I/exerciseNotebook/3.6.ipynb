{
 "cells": [
  {
   "cell_type": "markdown",
   "metadata": {},
   "source": [
    "## 3.6a\n",
    "\n",
    "Jacobian is 2*3 matrix    \n",
    "$\n",
    "\\mathbf{J}(q)=\\frac{\\partial f}{\\partial q} = \\begin{bmatrix} \n",
    "\\partial x/\\partial q_0 & \\partial x/\\partial q_1 & \\partial x/\\partial q_2 \\\\ \n",
    "\\partial y/\\partial q_0 & \\partial y/\\partial q_1 & \\partial y/\\partial q_2 \n",
    "\\end{bmatrix}\n",
    "$\n",
    "\n",
    "## 3.6b\n",
    " \n",
    "For matrices that are not square, they do not hold inverse like square matrices. But we can define pseudo inverse for non-square matrices. The pseudo inverse is defined as $A^+ = (A^TA)^{-1}A^T$.\n",
    "\n",
    "## 3.6c\n",
    "\n",
    "At singularities, the manipulability ellipsoid collapse to a line. And the line is perpendicular to the second link. i.e. the end effector velocity can not move in the direction of the second link."
   ]
  }
 ],
 "metadata": {
  "language_info": {
   "name": "python"
  }
 },
 "nbformat": 4,
 "nbformat_minor": 2
}
